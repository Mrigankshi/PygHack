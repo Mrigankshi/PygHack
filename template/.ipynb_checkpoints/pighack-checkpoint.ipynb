{
 "cells": [
  {
   "cell_type": "code",
   "execution_count": 15,
   "metadata": {},
   "outputs": [],
   "source": [
    "import pandas as pd\n",
    "import numpy as np\n",
    "import sys \n",
    "import time\n",
    "import os\n",
    "from flask import Flask, render_template, request, send_file, redirect, url_for, flash\n",
    "from werkzeug.utils import secure_filename"
   ]
  },
  {
   "cell_type": "code",
   "execution_count": 23,
   "metadata": {},
   "outputs": [
    {
     "name": "stdout",
     "output_type": "stream",
     "text": [
      "  Name                                           Comments\n",
      "0    A  It was a horrible day there were too many men ...\n",
      "1    A                            Black people all around\n",
      "2    B                                                   \n",
      "3    C                                              great\n"
     ]
    }
   ],
   "source": [
    "data = {'Name':['A', 'A', 'B', 'C'], 'Comments':['It was a horrible day there were too many men who were misbehaving gosh i willnever visit again', 'Black people all around', '', 'great']} \n",
    "df = pd.DataFrame(data) \n",
    "print(df)"
   ]
  },
  {
   "cell_type": "code",
   "execution_count": 24,
   "metadata": {},
   "outputs": [],
   "source": [
    "app = Flask(__name__,template_folder=\"data\",static_url_path='',static_folder=\"data/static\")\n",
    "app.secret_key = \"secret\"\n",
    "# app.config['UPLOAD_FOLDER'] = UPLOAD_FOLDER\n",
    "UPLOAD_FOLDER = '/home/kritikuk/Desktop/Thesis'\n",
    "app.config['UPLOAD_FOLDER'] = UPLOAD_FOLDER\n",
    "\n",
    "@app.route('/')\n",
    "def index(name='A'):\n",
    "  L  = []\n",
    "  for index, i in df.iterrows():\n",
    "  # print(i)\n",
    "    if i['Name']=='A' and i['Comments']!='' and i['Comments']!='null':\n",
    "      print(i['Comments'])\n",
    "      L.append(i['Comments'])\n",
    "\n",
    "  df2 = pd.DataFrame(L, columns=['comments'])\n",
    "  return render_template(\"show.html\", data=L)\n",
    "    # return render_template('index.html')"
   ]
  },
  {
   "cell_type": "code",
   "execution_count": null,
   "metadata": {
    "scrolled": false
   },
   "outputs": [
    {
     "name": "stdout",
     "output_type": "stream",
     "text": [
      " * Serving Flask app \"__main__\" (lazy loading)\n",
      " * Environment: production\n",
      "\u001b[31m   WARNING: This is a development server. Do not use it in a production deployment.\u001b[0m\n",
      "\u001b[2m   Use a production WSGI server instead.\u001b[0m\n",
      " * Debug mode: off\n"
     ]
    },
    {
     "name": "stderr",
     "output_type": "stream",
     "text": [
      " * Running on http://127.0.0.1:5000/ (Press CTRL+C to quit)\n",
      "127.0.0.1 - - [26/Sep/2020 03:36:14] \"\u001b[37mGET / HTTP/1.1\u001b[0m\" 200 -\n",
      "127.0.0.1 - - [26/Sep/2020 03:36:14] \"\u001b[33mGET /style.css HTTP/1.1\u001b[0m\" 404 -\n"
     ]
    },
    {
     "name": "stdout",
     "output_type": "stream",
     "text": [
      "It was a horrible day there were too many men who were misbehaving gosh i willnever visit again\n",
      "Black people all around\n"
     ]
    },
    {
     "name": "stderr",
     "output_type": "stream",
     "text": [
      "127.0.0.1 - - [26/Sep/2020 03:36:14] \"\u001b[37mGET / HTTP/1.1\u001b[0m\" 200 -\n"
     ]
    },
    {
     "name": "stdout",
     "output_type": "stream",
     "text": [
      "It was a horrible day there were too many men who were misbehaving gosh i willnever visit again\n",
      "Black people all around\n"
     ]
    }
   ],
   "source": [
    "if __name__ == '__main__':\n",
    "    app.run(port=5000)"
   ]
  },
  {
   "cell_type": "code",
   "execution_count": null,
   "metadata": {},
   "outputs": [],
   "source": [
    "\n"
   ]
  },
  {
   "cell_type": "code",
   "execution_count": null,
   "metadata": {},
   "outputs": [],
   "source": []
  }
 ],
 "metadata": {
  "kernelspec": {
   "display_name": "Python 3",
   "language": "python",
   "name": "python3"
  },
  "language_info": {
   "codemirror_mode": {
    "name": "ipython",
    "version": 3
   },
   "file_extension": ".py",
   "mimetype": "text/x-python",
   "name": "python",
   "nbconvert_exporter": "python",
   "pygments_lexer": "ipython3",
   "version": "3.6.4"
  }
 },
 "nbformat": 4,
 "nbformat_minor": 2
}
